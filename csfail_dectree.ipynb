{
 "cells": [
  {
   "cell_type": "code",
   "execution_count": 6,
   "id": "672e7899-5b33-429e-8c41-7637b0132ea1",
   "metadata": {},
   "outputs": [
    {
     "data": {
      "text/plain": [
       "0.6913365259033522"
      ]
     },
     "execution_count": 6,
     "metadata": {},
     "output_type": "execute_result"
    }
   ],
   "source": [
    "import pandas as pd \n",
    "from sklearn.tree import DecisionTreeClassifier\n",
    "from sklearn.model_selection import train_test_split\n",
    "from sklearn.metrics import accuracy_score\n",
    "import numpy as np\n",
    "\n",
    "data = pd.read_csv('csfail_database.csv')\n",
    "X = data.drop(columns=['crashedAt'])\n",
    "y = data['crashedAt']\n",
    "X_train, X_test, y_train, y_test = train_test_split(X, y, test_size=0.2)\n",
    "y_train_binned = np.digitize(y_train, bins=[1.2])\n",
    "y_test_binned = np.digitize(y_test, bins=[1.2])\n",
    "\n",
    "model = DecisionTreeClassifier()\n",
    "model.fit(X_train, y_train_binned)\n",
    "\n",
    "\n",
    "prediction = model.predict(X_test)\n",
    "score = accuracy_score(y_test_binned, prediction)\n",
    "score"
   ]
  },
  {
   "cell_type": "code",
   "execution_count": 7,
   "id": "79b85d95-c772-4526-90f0-8ea37f07e507",
   "metadata": {},
   "outputs": [
    {
     "data": {
      "text/plain": [
       "['crash_geusser.joblib']"
      ]
     },
     "execution_count": 7,
     "metadata": {},
     "output_type": "execute_result"
    }
   ],
   "source": [
    "import pandas as pd \n",
    "from sklearn.tree import DecisionTreeClassifier\n",
    "from sklearn.model_selection import train_test_split\n",
    "from sklearn.metrics import accuracy_score\n",
    "import numpy as np\n",
    "import joblib\n",
    "\n",
    "data = pd.read_csv('csfail_database.csv')\n",
    "X = data.drop(columns=['crashedAt'])\n",
    "y = data['crashedAt']\n",
    "X_train, X_test, y_train, y_test = train_test_split(X, y, test_size=0.2)\n",
    "y_train_binned = np.digitize(y_train, bins=[1.2])\n",
    "y_test_binned = np.digitize(y_test, bins=[1.2])\n",
    "\n",
    "model = DecisionTreeClassifier()\n",
    "model.fit(X_train.values, y_train_binned)\n",
    "\n",
    "joblib.dump(model, 'crash_geusser.joblib')"
   ]
  },
  {
   "cell_type": "code",
   "execution_count": 1,
   "id": "ca2e33d8-47df-421a-a67f-3511fe40de4d",
   "metadata": {},
   "outputs": [
    {
     "data": {
      "text/plain": [
       "array([0], dtype=int64)"
      ]
     },
     "execution_count": 1,
     "metadata": {},
     "output_type": "execute_result"
    }
   ],
   "source": [
    "import pandas as pd \n",
    "from sklearn.tree import DecisionTreeClassifier\n",
    "from sklearn.model_selection import train_test_split\n",
    "from sklearn.metrics import accuracy_score\n",
    "import numpy as np\n",
    "import joblib\n",
    "\n",
    "\n",
    "model = joblib.load('crash_geusser.joblib')\n",
    "\n",
    "\n",
    "prediction = model.predict([[1000, 500, 300]])\n",
    "prediction\n"
   ]
  },
  {
   "cell_type": "code",
   "execution_count": 8,
   "id": "59737d8b",
   "metadata": {},
   "outputs": [
    {
     "name": "stdout",
     "output_type": "stream",
     "text": [
      "True\n",
      "True\n",
      "False\n",
      "False\n",
      "True\n",
      "True\n",
      "True\n",
      "False\n",
      "True\n"
     ]
    },
    {
     "ename": "KeyboardInterrupt",
     "evalue": "",
     "output_type": "error",
     "traceback": [
      "\u001b[1;31m---------------------------------------------------------------------------\u001b[0m",
      "\u001b[1;31mKeyboardInterrupt\u001b[0m                         Traceback (most recent call last)",
      "Cell \u001b[1;32mIn[8], line 29\u001b[0m\n\u001b[0;32m     25\u001b[0m end_game \u001b[38;5;241m=\u001b[39m \u001b[38;5;241m5661524\u001b[39m\n\u001b[0;32m     27\u001b[0m model \u001b[38;5;241m=\u001b[39m joblib\u001b[38;5;241m.\u001b[39mload(\u001b[38;5;124m'\u001b[39m\u001b[38;5;124mcrash_geusser.joblib\u001b[39m\u001b[38;5;124m'\u001b[39m)\n\u001b[1;32m---> 29\u001b[0m modeling(start_game, end_game, model)\n",
      "Cell \u001b[1;32mIn[8], line 8\u001b[0m, in \u001b[0;36mmodeling\u001b[1;34m(start_game, end_game, model)\u001b[0m\n\u001b[0;32m      6\u001b[0m \u001b[38;5;28;01mdef\u001b[39;00m \u001b[38;5;21mmodeling\u001b[39m(start_game, end_game, model):\n\u001b[0;32m      7\u001b[0m     \u001b[38;5;28;01mfor\u001b[39;00m i \u001b[38;5;129;01min\u001b[39;00m \u001b[38;5;28mrange\u001b[39m(start_game, end_game):\n\u001b[1;32m----> 8\u001b[0m         time\u001b[38;5;241m.\u001b[39msleep(\u001b[38;5;241m1\u001b[39m)\n\u001b[0;32m      9\u001b[0m         api \u001b[38;5;241m=\u001b[39m requests\u001b[38;5;241m.\u001b[39mget(\u001b[38;5;124mf\u001b[39m\u001b[38;5;124m'\u001b[39m\u001b[38;5;124mhttps://3cs.fail/api/crash/games/\u001b[39m\u001b[38;5;132;01m{\u001b[39;00mi\u001b[38;5;132;01m}\u001b[39;00m\u001b[38;5;124m'\u001b[39m)\n\u001b[0;32m     10\u001b[0m         api \u001b[38;5;241m=\u001b[39m api\u001b[38;5;241m.\u001b[39mjson()\n",
      "\u001b[1;31mKeyboardInterrupt\u001b[0m: "
     ]
    }
   ],
   "source": [
    "import requests\n",
    "import joblib\n",
    "import numpy as np\n",
    "import time\n",
    "\n",
    "def modeling(start_game, end_game, model):\n",
    "    for i in range(start_game, end_game):\n",
    "        time.sleep(1)\n",
    "        api = requests.get(f'https://3cs.fail/api/crash/games/{i}')\n",
    "        api = api.json()\n",
    "\n",
    "        crash = np.digitize(api[\"data\"][\"game\"][\"crashedAt\"], bins=[1.2])\n",
    "        total = api[\"data\"][\"game\"][\"totalBankUsd\"]\n",
    "        users = api[\"data\"][\"game\"][\"usersCount\"]\n",
    "        items = api[\"data\"][\"game\"][\"itemsCount\"]\n",
    "\n",
    "        prediction = model.predict([[total, users, items]])\n",
    "\n",
    "        if prediction[0] == crash:\n",
    "            print(True)\n",
    "        else:\n",
    "            print(False)\n",
    "\n",
    "start_game = 5000000\n",
    "end_game = 5661524\n",
    "\n",
    "model = joblib.load('crash_geusser.joblib')\n",
    "\n",
    "modeling(start_game, end_game, model)\n"
   ]
  }
 ],
 "metadata": {
  "kernelspec": {
   "display_name": "base",
   "language": "python",
   "name": "python3"
  },
  "language_info": {
   "codemirror_mode": {
    "name": "ipython",
    "version": 3
   },
   "file_extension": ".py",
   "mimetype": "text/x-python",
   "name": "python",
   "nbconvert_exporter": "python",
   "pygments_lexer": "ipython3",
   "version": "3.12.4"
  }
 },
 "nbformat": 4,
 "nbformat_minor": 5
}
