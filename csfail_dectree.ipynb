{
 "cells": [
  {
   "cell_type": "markdown",
   "id": "4007b452",
   "metadata": {},
   "source": [
    "import of needed libraries"
   ]
  },
  {
   "cell_type": "code",
   "execution_count": 37,
   "id": "e6e360bf",
   "metadata": {},
   "outputs": [],
   "source": [
    "import pandas as pd \n",
    "import numpy as np\n",
    "import joblib\n",
    "import requests\n",
    "import os\n",
    "import time\n",
    "from sklearn.tree import DecisionTreeClassifier\n",
    "from sklearn.model_selection import train_test_split\n",
    "from dotenv import load_dotenv\n",
    "from sklearn.metrics import accuracy_score\n",
    "\n",
    "load_dotenv()\n",
    "\n",
    "API = os.getenv(\"API\")"
   ]
  },
  {
   "cell_type": "markdown",
   "id": "dcaf7f6a",
   "metadata": {},
   "source": [
    "This code loads a dataset from a CSV file into a pandas DataFrame, then separates it into \n",
    "features (X) and the target variable (y). The data is split into training and testing sets \n",
    "using a 80-20% split. The target variable in both training and testing sets is then binned \n",
    "into two categories based on the threshold of 1.2 using np.digitize, resulting in binned \n",
    "target variables (y_train_binned and y_test_binned).\n"
   ]
  },
  {
   "cell_type": "code",
   "execution_count": 38,
   "id": "826b18e2",
   "metadata": {},
   "outputs": [],
   "source": [
    "data = pd.read_csv('csfail_database.csv')\n",
    "X = data.drop(columns=['crashedAt'])\n",
    "y = data['crashedAt']\n",
    "X_train, X_test, y_train, y_test = train_test_split(X, y, test_size=0.2)\n",
    "y_train_binned = np.digitize(y_train, bins=[1.2])\n",
    "y_test_binned = np.digitize(y_test, bins=[1.2])\n"
   ]
  },
  {
   "cell_type": "markdown",
   "id": "906b5d2e",
   "metadata": {},
   "source": [
    "This code initializes a DecisionTreeClassifier model and trains it on the binned training \n",
    "data (X_train and y_train_binned). After training, the model makes predictions on the \n",
    "binned test data (X_test). The accuracy of the model's predictions is then calculated by \n",
    "comparing the predicted values with the actual binned test values (y_test_binned), \n",
    "and the accuracy score is returned.\n"
   ]
  },
  {
   "cell_type": "code",
   "execution_count": null,
   "id": "672e7899-5b33-429e-8c41-7637b0132ea1",
   "metadata": {},
   "outputs": [],
   "source": [
    "model = DecisionTreeClassifier()\n",
    "model.fit(X_train, y_train_binned)\n",
    "\n",
    "\n",
    "prediction = model.predict(X_test)\n",
    "score = accuracy_score(y_test_binned, prediction)\n",
    "score"
   ]
  },
  {
   "cell_type": "markdown",
   "id": "95970720",
   "metadata": {},
   "source": [
    "The model is saved to a file named 'crash_geusser.joblib' using joblib.dump,\n",
    "which allows for efficient storage and \n",
    "later use of the trained model.\n"
   ]
  },
  {
   "cell_type": "code",
   "execution_count": null,
   "id": "79b85d95-c772-4526-90f0-8ea37f07e507",
   "metadata": {},
   "outputs": [],
   "source": [
    "model = DecisionTreeClassifier()\n",
    "model.fit(X_train.values, y_train_binned)\n",
    "\n",
    "joblib.dump(model, 'crash_geusser.joblib')"
   ]
  },
  {
   "cell_type": "markdown",
   "id": "e05cf49e",
   "metadata": {},
   "source": [
    "This function `modeling` makes predictions on crash game data from an API within a specified range \n",
    "of games (from `start_game` to `end_game`). For each game, it sends a GET request to retrieve \n",
    "the game data, extracts relevant features (total bank, number of users, and item count), and \n",
    "makes a prediction using the loaded model. It then compares the predicted value (bin) with the \n",
    "actual crash data (`crashedAt`), and prints `True` if they match and `False` if they don't. \n",
    "The process repeats for each game in the given range, with a 1-second delay between requests.\n"
   ]
  },
  {
   "cell_type": "code",
   "execution_count": null,
   "id": "59737d8b",
   "metadata": {},
   "outputs": [],
   "source": [
    "def modeling(start_game, end_game, model):\n",
    "    for i in range(start_game, end_game):\n",
    "        time.sleep(1)\n",
    "        api = requests.get(f'{API}{i}')\n",
    "        api = api.json()\n",
    "\n",
    "        crash = np.digitize(api[\"data\"][\"game\"][\"crashedAt\"], bins=[1.2])\n",
    "        total = api[\"data\"][\"game\"][\"totalBankUsd\"]\n",
    "        users = api[\"data\"][\"game\"][\"usersCount\"]\n",
    "        items = api[\"data\"][\"game\"][\"itemsCount\"]\n",
    "\n",
    "        prediction = model.predict([[total, users, items]])\n",
    "\n",
    "        if prediction[0] == crash:\n",
    "            print(True)\n",
    "        else:\n",
    "            print(False)\n",
    "\n",
    "start_game = 5000000\n",
    "end_game = 5661524\n",
    "\n",
    "model = joblib.load('crash_geusser.joblib')\n",
    "\n",
    "modeling(start_game, end_game, model)\n"
   ]
  }
 ],
 "metadata": {
  "kernelspec": {
   "display_name": "base",
   "language": "python",
   "name": "python3"
  },
  "language_info": {
   "codemirror_mode": {
    "name": "ipython",
    "version": 3
   },
   "file_extension": ".py",
   "mimetype": "text/x-python",
   "name": "python",
   "nbconvert_exporter": "python",
   "pygments_lexer": "ipython3",
   "version": "3.12.4"
  }
 },
 "nbformat": 4,
 "nbformat_minor": 5
}
